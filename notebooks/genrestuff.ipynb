{
 "cells": [
  {
   "cell_type": "code",
   "execution_count": 14,
   "metadata": {},
   "outputs": [
    {
     "name": "stderr",
     "output_type": "stream",
     "text": [
      "/var/folders/fk/b7dd25t91rq06z3l8zsn15r00000gn/T/ipykernel_69407/279902178.py:20: DtypeWarning: Columns (4) have mixed types. Specify dtype option on import or set low_memory=False.\n",
      "  data_basic = pd.read_csv(filepath2, sep=\"\\t\")\n"
     ]
    },
    {
     "ename": "KeyError",
     "evalue": "\"['Type'] not found in axis\"",
     "output_type": "error",
     "traceback": [
      "\u001b[0;31m---------------------------------------------------------------------------\u001b[0m",
      "\u001b[0;31mKeyError\u001b[0m                                  Traceback (most recent call last)",
      "Cell \u001b[0;32mIn[14], line 74\u001b[0m\n\u001b[1;32m     72\u001b[0m start_time \u001b[38;5;241m=\u001b[39m time\u001b[38;5;241m.\u001b[39mtime()\n\u001b[1;32m     73\u001b[0m data_rating, data_basic, netflix_data \u001b[38;5;241m=\u001b[39m load_imdb(filepath1, filepath2, netflix_path)\n\u001b[0;32m---> 74\u001b[0m final_merge \u001b[38;5;241m=\u001b[39m \u001b[43mmerge_and_save\u001b[49m\u001b[43m(\u001b[49m\u001b[43mdata_basic\u001b[49m\u001b[43m,\u001b[49m\u001b[43m \u001b[49m\u001b[43mdata_rating\u001b[49m\u001b[43m,\u001b[49m\u001b[43m \u001b[49m\u001b[43mnetflix_data\u001b[49m\u001b[43m,\u001b[49m\u001b[43m \u001b[49m\u001b[43moutput_path\u001b[49m\u001b[43m)\u001b[49m\n\u001b[1;32m     75\u001b[0m end_time \u001b[38;5;241m=\u001b[39m time\u001b[38;5;241m.\u001b[39mtime()\n\u001b[1;32m     76\u001b[0m total_time \u001b[38;5;241m=\u001b[39m end_time \u001b[38;5;241m-\u001b[39m start_time\n",
      "Cell \u001b[0;32mIn[14], line 64\u001b[0m, in \u001b[0;36mmerge_and_save\u001b[0;34m(data_basic, data_rating, netflix_data, output_path)\u001b[0m\n\u001b[1;32m     62\u001b[0m \u001b[38;5;66;03m# Filtering and dropping unnecessary columns\u001b[39;00m\n\u001b[1;32m     63\u001b[0m final_merge \u001b[38;5;241m=\u001b[39m final_merge[\u001b[38;5;241m~\u001b[39mfinal_merge[\u001b[38;5;124m\"\u001b[39m\u001b[38;5;124mtitleType\u001b[39m\u001b[38;5;124m\"\u001b[39m]\u001b[38;5;241m.\u001b[39misin([\u001b[38;5;124m\"\u001b[39m\u001b[38;5;124mtvMovie\u001b[39m\u001b[38;5;124m\"\u001b[39m, \u001b[38;5;124m\"\u001b[39m\u001b[38;5;124mvideo\u001b[39m\u001b[38;5;124m\"\u001b[39m, \u001b[38;5;124m\"\u001b[39m\u001b[38;5;124mvideoGame\u001b[39m\u001b[38;5;124m\"\u001b[39m])]\n\u001b[0;32m---> 64\u001b[0m final_merge \u001b[38;5;241m=\u001b[39m \u001b[43mfinal_merge\u001b[49m\u001b[38;5;241;43m.\u001b[39;49m\u001b[43mdrop\u001b[49m\u001b[43m(\u001b[49m\u001b[43m[\u001b[49m\u001b[38;5;124;43m\"\u001b[39;49m\u001b[38;5;124;43mtconst\u001b[39;49m\u001b[38;5;124;43m\"\u001b[39;49m\u001b[43m,\u001b[49m\u001b[43m \u001b[49m\u001b[38;5;124;43m\"\u001b[39;49m\u001b[38;5;124;43misAdult\u001b[39;49m\u001b[38;5;124;43m\"\u001b[39;49m\u001b[43m,\u001b[49m\u001b[43m \u001b[49m\u001b[38;5;124;43m\"\u001b[39;49m\u001b[38;5;124;43mruntimeMinutes\u001b[39;49m\u001b[38;5;124;43m\"\u001b[39;49m\u001b[43m,\u001b[49m\u001b[43m \u001b[49m\u001b[38;5;124;43m\"\u001b[39;49m\u001b[38;5;124;43mTitle_lower\u001b[39;49m\u001b[38;5;124;43m\"\u001b[39;49m\u001b[43m,\u001b[49m\u001b[43m \u001b[49m\u001b[38;5;124;43m\"\u001b[39;49m\u001b[38;5;124;43mTitle\u001b[39;49m\u001b[38;5;124;43m\"\u001b[39;49m\u001b[43m,\u001b[49m\u001b[43m \u001b[49m\u001b[38;5;124;43m\"\u001b[39;49m\u001b[38;5;124;43mType\u001b[39;49m\u001b[38;5;124;43m\"\u001b[39;49m\u001b[43m,\u001b[49m\u001b[43m \u001b[49m\u001b[38;5;124;43m\"\u001b[39;49m\u001b[38;5;124;43mMapped_Type\u001b[39;49m\u001b[38;5;124;43m\"\u001b[39;49m\u001b[43m]\u001b[49m\u001b[43m,\u001b[49m\u001b[43m \u001b[49m\u001b[43maxis\u001b[49m\u001b[38;5;241;43m=\u001b[39;49m\u001b[38;5;241;43m1\u001b[39;49m\u001b[43m)\u001b[49m\n\u001b[1;32m     66\u001b[0m \u001b[38;5;66;03m# Saving the final merged data\u001b[39;00m\n\u001b[1;32m     67\u001b[0m final_merge\u001b[38;5;241m.\u001b[39mto_csv(\u001b[38;5;124mf\u001b[39m\u001b[38;5;124m\"\u001b[39m\u001b[38;5;132;01m{\u001b[39;00moutput_path\u001b[38;5;132;01m}\u001b[39;00m\u001b[38;5;124mfinal_merged_data_1.csv\u001b[39m\u001b[38;5;124m\"\u001b[39m, index\u001b[38;5;241m=\u001b[39m\u001b[38;5;28;01mFalse\u001b[39;00m)\n",
      "File \u001b[0;32m~/Desktop/Personal_dev/netflix/netflix_env/lib/python3.11/site-packages/pandas/core/frame.py:5568\u001b[0m, in \u001b[0;36mDataFrame.drop\u001b[0;34m(self, labels, axis, index, columns, level, inplace, errors)\u001b[0m\n\u001b[1;32m   5420\u001b[0m \u001b[38;5;28;01mdef\u001b[39;00m \u001b[38;5;21mdrop\u001b[39m(\n\u001b[1;32m   5421\u001b[0m     \u001b[38;5;28mself\u001b[39m,\n\u001b[1;32m   5422\u001b[0m     labels: IndexLabel \u001b[38;5;241m|\u001b[39m \u001b[38;5;28;01mNone\u001b[39;00m \u001b[38;5;241m=\u001b[39m \u001b[38;5;28;01mNone\u001b[39;00m,\n\u001b[0;32m   (...)\u001b[0m\n\u001b[1;32m   5429\u001b[0m     errors: IgnoreRaise \u001b[38;5;241m=\u001b[39m \u001b[38;5;124m\"\u001b[39m\u001b[38;5;124mraise\u001b[39m\u001b[38;5;124m\"\u001b[39m,\n\u001b[1;32m   5430\u001b[0m ) \u001b[38;5;241m-\u001b[39m\u001b[38;5;241m>\u001b[39m DataFrame \u001b[38;5;241m|\u001b[39m \u001b[38;5;28;01mNone\u001b[39;00m:\n\u001b[1;32m   5431\u001b[0m \u001b[38;5;250m    \u001b[39m\u001b[38;5;124;03m\"\"\"\u001b[39;00m\n\u001b[1;32m   5432\u001b[0m \u001b[38;5;124;03m    Drop specified labels from rows or columns.\u001b[39;00m\n\u001b[1;32m   5433\u001b[0m \n\u001b[0;32m   (...)\u001b[0m\n\u001b[1;32m   5566\u001b[0m \u001b[38;5;124;03m            weight  1.0     0.8\u001b[39;00m\n\u001b[1;32m   5567\u001b[0m \u001b[38;5;124;03m    \"\"\"\u001b[39;00m\n\u001b[0;32m-> 5568\u001b[0m     \u001b[38;5;28;01mreturn\u001b[39;00m \u001b[38;5;28;43msuper\u001b[39;49m\u001b[43m(\u001b[49m\u001b[43m)\u001b[49m\u001b[38;5;241;43m.\u001b[39;49m\u001b[43mdrop\u001b[49m\u001b[43m(\u001b[49m\n\u001b[1;32m   5569\u001b[0m \u001b[43m        \u001b[49m\u001b[43mlabels\u001b[49m\u001b[38;5;241;43m=\u001b[39;49m\u001b[43mlabels\u001b[49m\u001b[43m,\u001b[49m\n\u001b[1;32m   5570\u001b[0m \u001b[43m        \u001b[49m\u001b[43maxis\u001b[49m\u001b[38;5;241;43m=\u001b[39;49m\u001b[43maxis\u001b[49m\u001b[43m,\u001b[49m\n\u001b[1;32m   5571\u001b[0m \u001b[43m        \u001b[49m\u001b[43mindex\u001b[49m\u001b[38;5;241;43m=\u001b[39;49m\u001b[43mindex\u001b[49m\u001b[43m,\u001b[49m\n\u001b[1;32m   5572\u001b[0m \u001b[43m        \u001b[49m\u001b[43mcolumns\u001b[49m\u001b[38;5;241;43m=\u001b[39;49m\u001b[43mcolumns\u001b[49m\u001b[43m,\u001b[49m\n\u001b[1;32m   5573\u001b[0m \u001b[43m        \u001b[49m\u001b[43mlevel\u001b[49m\u001b[38;5;241;43m=\u001b[39;49m\u001b[43mlevel\u001b[49m\u001b[43m,\u001b[49m\n\u001b[1;32m   5574\u001b[0m \u001b[43m        \u001b[49m\u001b[43minplace\u001b[49m\u001b[38;5;241;43m=\u001b[39;49m\u001b[43minplace\u001b[49m\u001b[43m,\u001b[49m\n\u001b[1;32m   5575\u001b[0m \u001b[43m        \u001b[49m\u001b[43merrors\u001b[49m\u001b[38;5;241;43m=\u001b[39;49m\u001b[43merrors\u001b[49m\u001b[43m,\u001b[49m\n\u001b[1;32m   5576\u001b[0m \u001b[43m    \u001b[49m\u001b[43m)\u001b[49m\n",
      "File \u001b[0;32m~/Desktop/Personal_dev/netflix/netflix_env/lib/python3.11/site-packages/pandas/core/generic.py:4785\u001b[0m, in \u001b[0;36mNDFrame.drop\u001b[0;34m(self, labels, axis, index, columns, level, inplace, errors)\u001b[0m\n\u001b[1;32m   4783\u001b[0m \u001b[38;5;28;01mfor\u001b[39;00m axis, labels \u001b[38;5;129;01min\u001b[39;00m axes\u001b[38;5;241m.\u001b[39mitems():\n\u001b[1;32m   4784\u001b[0m     \u001b[38;5;28;01mif\u001b[39;00m labels \u001b[38;5;129;01mis\u001b[39;00m \u001b[38;5;129;01mnot\u001b[39;00m \u001b[38;5;28;01mNone\u001b[39;00m:\n\u001b[0;32m-> 4785\u001b[0m         obj \u001b[38;5;241m=\u001b[39m \u001b[43mobj\u001b[49m\u001b[38;5;241;43m.\u001b[39;49m\u001b[43m_drop_axis\u001b[49m\u001b[43m(\u001b[49m\u001b[43mlabels\u001b[49m\u001b[43m,\u001b[49m\u001b[43m \u001b[49m\u001b[43maxis\u001b[49m\u001b[43m,\u001b[49m\u001b[43m \u001b[49m\u001b[43mlevel\u001b[49m\u001b[38;5;241;43m=\u001b[39;49m\u001b[43mlevel\u001b[49m\u001b[43m,\u001b[49m\u001b[43m \u001b[49m\u001b[43merrors\u001b[49m\u001b[38;5;241;43m=\u001b[39;49m\u001b[43merrors\u001b[49m\u001b[43m)\u001b[49m\n\u001b[1;32m   4787\u001b[0m \u001b[38;5;28;01mif\u001b[39;00m inplace:\n\u001b[1;32m   4788\u001b[0m     \u001b[38;5;28mself\u001b[39m\u001b[38;5;241m.\u001b[39m_update_inplace(obj)\n",
      "File \u001b[0;32m~/Desktop/Personal_dev/netflix/netflix_env/lib/python3.11/site-packages/pandas/core/generic.py:4827\u001b[0m, in \u001b[0;36mNDFrame._drop_axis\u001b[0;34m(self, labels, axis, level, errors, only_slice)\u001b[0m\n\u001b[1;32m   4825\u001b[0m         new_axis \u001b[38;5;241m=\u001b[39m axis\u001b[38;5;241m.\u001b[39mdrop(labels, level\u001b[38;5;241m=\u001b[39mlevel, errors\u001b[38;5;241m=\u001b[39merrors)\n\u001b[1;32m   4826\u001b[0m     \u001b[38;5;28;01melse\u001b[39;00m:\n\u001b[0;32m-> 4827\u001b[0m         new_axis \u001b[38;5;241m=\u001b[39m \u001b[43maxis\u001b[49m\u001b[38;5;241;43m.\u001b[39;49m\u001b[43mdrop\u001b[49m\u001b[43m(\u001b[49m\u001b[43mlabels\u001b[49m\u001b[43m,\u001b[49m\u001b[43m \u001b[49m\u001b[43merrors\u001b[49m\u001b[38;5;241;43m=\u001b[39;49m\u001b[43merrors\u001b[49m\u001b[43m)\u001b[49m\n\u001b[1;32m   4828\u001b[0m     indexer \u001b[38;5;241m=\u001b[39m axis\u001b[38;5;241m.\u001b[39mget_indexer(new_axis)\n\u001b[1;32m   4830\u001b[0m \u001b[38;5;66;03m# Case for non-unique axis\u001b[39;00m\n\u001b[1;32m   4831\u001b[0m \u001b[38;5;28;01melse\u001b[39;00m:\n",
      "File \u001b[0;32m~/Desktop/Personal_dev/netflix/netflix_env/lib/python3.11/site-packages/pandas/core/indexes/base.py:7070\u001b[0m, in \u001b[0;36mIndex.drop\u001b[0;34m(self, labels, errors)\u001b[0m\n\u001b[1;32m   7068\u001b[0m \u001b[38;5;28;01mif\u001b[39;00m mask\u001b[38;5;241m.\u001b[39many():\n\u001b[1;32m   7069\u001b[0m     \u001b[38;5;28;01mif\u001b[39;00m errors \u001b[38;5;241m!=\u001b[39m \u001b[38;5;124m\"\u001b[39m\u001b[38;5;124mignore\u001b[39m\u001b[38;5;124m\"\u001b[39m:\n\u001b[0;32m-> 7070\u001b[0m         \u001b[38;5;28;01mraise\u001b[39;00m \u001b[38;5;167;01mKeyError\u001b[39;00m(\u001b[38;5;124mf\u001b[39m\u001b[38;5;124m\"\u001b[39m\u001b[38;5;132;01m{\u001b[39;00mlabels[mask]\u001b[38;5;241m.\u001b[39mtolist()\u001b[38;5;132;01m}\u001b[39;00m\u001b[38;5;124m not found in axis\u001b[39m\u001b[38;5;124m\"\u001b[39m)\n\u001b[1;32m   7071\u001b[0m     indexer \u001b[38;5;241m=\u001b[39m indexer[\u001b[38;5;241m~\u001b[39mmask]\n\u001b[1;32m   7072\u001b[0m \u001b[38;5;28;01mreturn\u001b[39;00m \u001b[38;5;28mself\u001b[39m\u001b[38;5;241m.\u001b[39mdelete(indexer)\n",
      "\u001b[0;31mKeyError\u001b[0m: \"['Type'] not found in axis\""
     ]
    }
   ],
   "source": [
    "import pandas as pd\n",
    "import time\n",
    "\n",
    "### File Paths ####\n",
    "filepath1 = (\n",
    " \"/Users/pranavsukumaran/Desktop/Personal_dev/netflix/project/data/data.tsv\"\n",
    ")\n",
    "filepath2 = (\n",
    " \"/Users/pranavsukumaran/Desktop/Personal_dev/netflix/project/data/data-2.tsv\"\n",
    ")\n",
    "netflix_path = \"/Users/pranavsukumaran/Desktop/Personal_dev/netflix/project/data/processed_data.csv\"\n",
    "output_path = \"/Users/pranavsukumaran/Desktop/Personal_dev/netflix/project/data/\"\n",
    "# ----------------------------------------------------------------------------------------#\n",
    "\n",
    "\n",
    "# Function to load data\n",
    "def load_imdb(filepath1, filepath2, netflix_path):\n",
    "\n",
    " data_rating = pd.read_csv(filepath1, sep=\"\\t\")\n",
    " data_basic = pd.read_csv(filepath2, sep=\"\\t\")\n",
    " netflix_data = pd.read_csv(netflix_path)\n",
    " return data_rating, data_basic, netflix_data\n",
    "\n",
    "\n",
    "\n",
    "def merge_and_save(data_basic, data_rating, netflix_data, output_path):\n",
    "    # Select relevant columns from data_basic\n",
    "    final_data = data_basic[\n",
    "        [\"tconst\", \"titleType\", \"primaryTitle\", \"isAdult\", \"startYear\", \"runtimeMinutes\", \"genres\"]\n",
    "    ]\n",
    "    \n",
    "    # Merge final_data with data_rating\n",
    "    merged_data = pd.merge(final_data, data_rating, on=\"tconst\")\n",
    "    \n",
    "    # Lowercase titles for matching\n",
    "    merged_data[\"Title_lower\"] = merged_data[\"primaryTitle\"].str.lower()\n",
    "    netflix_data[\"Title_lower\"] = netflix_data[\"Title\"].str.lower()\n",
    "\n",
    "    # Map Netflix types to IMDb types\n",
    "    # Now including 'short' under the 'Movie' category\n",
    "    def map_to_netflix_type(imdb_type):\n",
    "        if imdb_type in ['movie', 'short']:\n",
    "            return 'Movie'\n",
    "        elif imdb_type in ['tvSeries', 'tvMiniSeries']:\n",
    "            return 'TV Show'\n",
    "        return None\n",
    "\n",
    "    merged_data['Mapped_Type'] = merged_data['titleType'].apply(map_to_netflix_type)\n",
    "    \n",
    "    # Merge with Netflix data to ensure matching title types\n",
    "    type_matched_data = pd.merge(merged_data, netflix_data[['Title_lower', 'Type']], on=\"Title_lower\")\n",
    "    type_matched_data = type_matched_data[type_matched_data['Mapped_Type'] == type_matched_data['Type']]\n",
    "\n",
    "    # Selecting title with highest number of votes after ensuring type match\n",
    "    imdb_max_votes = type_matched_data.loc[\n",
    "        type_matched_data.groupby(\"Title_lower\")[\"numVotes\"].idxmax()\n",
    "    ]\n",
    "\n",
    "    # Final merge with Netflix data\n",
    "    final_merge = imdb_max_votes.merge(netflix_data, on=\"Title_lower\", how=\"inner\")\n",
    "    \n",
    "    # Filtering and dropping unnecessary columns\n",
    "    final_merge = final_merge[~final_merge[\"titleType\"].isin([\"tvMovie\", \"video\", \"videoGame\"])]\n",
    "    final_merge = final_merge.drop([\"tconst\", \"isAdult\", \"runtimeMinutes\", \"Title_lower\", \"Title\", \"Type\", \"Mapped_Type\"], axis=1)\n",
    "    \n",
    "    # Saving the final merged data\n",
    "    final_merge.to_csv(f\"{output_path}final_merged_data_1.csv\", index=False)\n",
    "\n",
    "\n",
    "\n",
    "# execution\n",
    "start_time = time.time()\n",
    "data_rating, data_basic, netflix_data = load_imdb(filepath1, filepath2, netflix_path)\n",
    "final_merge = merge_and_save(data_basic, data_rating, netflix_data, output_path)\n",
    "end_time = time.time()\n",
    "total_time = end_time - start_time\n",
    "print(f\"Processing time using Pandas: {total_time:.2f} seconds\")\n",
    "print(\" \")\n",
    "print(\"---------------------------------------------------------\")\n",
    "print(\" \")\n",
    "print(\"Final Processed Dataset:\")\n",
    "print(\" \")\n"
   ]
  },
  {
   "cell_type": "code",
   "execution_count": 6,
   "metadata": {},
   "outputs": [
    {
     "name": "stdout",
     "output_type": "stream",
     "text": [
      "Columns in data_basic: ['tconst', 'titleType', 'primaryTitle', 'originalTitle', 'isAdult', 'startYear', 'endYear', 'runtimeMinutes', 'genres']\n",
      "Columns in data_rating: ['tconst', 'averageRating', 'numVotes']\n",
      "Columns in netflix_data: ['Profile Name', 'Duration', 'Title', 'Country', 'Type', 'Hour', 'Day', 'Month', 'Year', 'Device Category', 'Title_lower']\n"
     ]
    }
   ],
   "source": [
    "print(\"Columns in data_basic:\", data_basic.columns.tolist())\n",
    "print(\"Columns in data_rating:\", data_rating.columns.tolist())\n",
    "print(\"Columns in netflix_data:\", netflix_data.columns.tolist())\n"
   ]
  },
  {
   "cell_type": "code",
   "execution_count": 17,
   "metadata": {},
   "outputs": [],
   "source": []
  }
 ],
 "metadata": {
  "kernelspec": {
   "display_name": "netflix_env",
   "language": "python",
   "name": "python3"
  },
  "language_info": {
   "codemirror_mode": {
    "name": "ipython",
    "version": 3
   },
   "file_extension": ".py",
   "mimetype": "text/x-python",
   "name": "python",
   "nbconvert_exporter": "python",
   "pygments_lexer": "ipython3",
   "version": "3.11.6"
  }
 },
 "nbformat": 4,
 "nbformat_minor": 2
}
